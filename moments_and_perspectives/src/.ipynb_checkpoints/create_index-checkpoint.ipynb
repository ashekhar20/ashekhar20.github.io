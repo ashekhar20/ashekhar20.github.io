{
 "cells": [
  {
   "cell_type": "code",
   "execution_count": 6,
   "metadata": {
    "collapsed": true
   },
   "outputs": [],
   "source": [
    "import glob\n",
    "import os\n",
    "from datetime import datetime"
   ]
  },
  {
   "cell_type": "code",
   "execution_count": 2,
   "metadata": {
    "collapsed": false
   },
   "outputs": [
    {
     "data": {
      "text/plain": [
       "'/Users/ashekhar/ashekhar20.github.io/moments_and_perspectives/img'"
      ]
     },
     "execution_count": 2,
     "metadata": {},
     "output_type": "execute_result"
    }
   ],
   "source": [
    "imgdir=os.path.abspath(r'../img')\n",
    "imgdir"
   ]
  },
  {
   "cell_type": "code",
   "execution_count": 3,
   "metadata": {
    "collapsed": true
   },
   "outputs": [],
   "source": [
    "imgtxt=\"<p>MYTIME</p><a href=\\\"img/MYIMG\\\"><img src=\\\"img/MYIMG\\\" /></a><br><hr><br>\""
   ]
  },
  {
   "cell_type": "code",
   "execution_count": 10,
   "metadata": {
    "collapsed": false,
    "scrolled": true
   },
   "outputs": [
    {
     "name": "stdout",
     "output_type": "stream",
     "text": [
      "/Users/ashekhar/ashekhar20.github.io/moments_and_perspectives/img/01_Minima.png 2010-06-18\n",
      "/Users/ashekhar/ashekhar20.github.io/moments_and_perspectives/img/02_Email.png 2010-06-26\n",
      "/Users/ashekhar/ashekhar20.github.io/moments_and_perspectives/img/03_Like.png 2010-07-08\n",
      "/Users/ashekhar/ashekhar20.github.io/moments_and_perspectives/img/04_Broke.png 2010-08-03\n",
      "/Users/ashekhar/ashekhar20.github.io/moments_and_perspectives/img/05_Extension.png 2010-08-04\n",
      "/Users/ashekhar/ashekhar20.github.io/moments_and_perspectives/img/06_Iphone.png 2010-08-05\n",
      "/Users/ashekhar/ashekhar20.github.io/moments_and_perspectives/img/07_Google.png 2010-08-09\n",
      "/Users/ashekhar/ashekhar20.github.io/moments_and_perspectives/img/08_GeekScorned.png 2010-10-12\n",
      "/Users/ashekhar/ashekhar20.github.io/moments_and_perspectives/img/09_PerfectWorld.png 2010-11-13\n",
      "/Users/ashekhar/ashekhar20.github.io/moments_and_perspectives/img/10_TruthDare.png 2010-12-06\n",
      "/Users/ashekhar/ashekhar20.github.io/moments_and_perspectives/img/11_GraduationDate.png 2010-12-18\n",
      "/Users/ashekhar/ashekhar20.github.io/moments_and_perspectives/img/12_Busy.png 2011-06-06\n",
      "/Users/ashekhar/ashekhar20.github.io/moments_and_perspectives/img/13_Compiled.png 2012-02-28\n",
      "/Users/ashekhar/ashekhar20.github.io/moments_and_perspectives/img/14_MSvsPhD.png 2012-03-13\n",
      "/Users/ashekhar/ashekhar20.github.io/moments_and_perspectives/img/15_StalkTell.png 2012-04-05\n",
      "/Users/ashekhar/ashekhar20.github.io/moments_and_perspectives/img/16_GettingUp.png 2012-09-20\n",
      "/Users/ashekhar/ashekhar20.github.io/moments_and_perspectives/img/17_Fear.png 2012-12-10\n",
      "/Users/ashekhar/ashekhar20.github.io/moments_and_perspectives/img/18_Temptation.png 2013-02-23\n",
      "/Users/ashekhar/ashekhar20.github.io/moments_and_perspectives/img/19_Advisor.png 2013-03-17\n",
      "/Users/ashekhar/ashekhar20.github.io/moments_and_perspectives/img/20_POV.png 2013-03-25\n",
      "/Users/ashekhar/ashekhar20.github.io/moments_and_perspectives/img/21_Password.png 2013-04-27\n",
      "/Users/ashekhar/ashekhar20.github.io/moments_and_perspectives/img/22_Degeneralization.png 2013-07-28\n",
      "/Users/ashekhar/ashekhar20.github.io/moments_and_perspectives/img/23_Candies.png 2013-11-07\n",
      "/Users/ashekhar/ashekhar20.github.io/moments_and_perspectives/img/24_Netflix.png 2013-11-16\n",
      "/Users/ashekhar/ashekhar20.github.io/moments_and_perspectives/img/25_LearningCurve.png 2014-03-23\n",
      "/Users/ashekhar/ashekhar20.github.io/moments_and_perspectives/img/26_Cake.png 2014-06-23\n",
      "/Users/ashekhar/ashekhar20.github.io/moments_and_perspectives/img/28_Addresses.png 2015-02-04\n",
      "/Users/ashekhar/ashekhar20.github.io/moments_and_perspectives/img/29_Interstellar.png 2015-06-27\n",
      "/Users/ashekhar/ashekhar20.github.io/moments_and_perspectives/img/30_Webcam.png 2015-08-23\n",
      "/Users/ashekhar/ashekhar20.github.io/moments_and_perspectives/img/31_Roadtrips.png 2015-10-07\n",
      "/Users/ashekhar/ashekhar20.github.io/moments_and_perspectives/img/32_Gloves.png 2015-11-17\n",
      "/Users/ashekhar/ashekhar20.github.io/moments_and_perspectives/img/33_PIzza.png 2016-01-19\n",
      "/Users/ashekhar/ashekhar20.github.io/moments_and_perspectives/img/34_Legend.png 2016-03-09\n",
      "/Users/ashekhar/ashekhar20.github.io/moments_and_perspectives/img/35_Bhor.png 2016-03-09\n",
      "/Users/ashekhar/ashekhar20.github.io/moments_and_perspectives/img/36_TV.png 2016-05-17\n",
      "/Users/ashekhar/ashekhar20.github.io/moments_and_perspectives/img/37_Moon.png 2016-09-05\n",
      "/Users/ashekhar/ashekhar20.github.io/moments_and_perspectives/img/38_autoplay.png 2016-09-08\n",
      "/Users/ashekhar/ashekhar20.github.io/moments_and_perspectives/img/39_clickbait.png 2016-12-12\n",
      "/Users/ashekhar/ashekhar20.github.io/moments_and_perspectives/img/40_restaurant.png 2016-12-16\n",
      "/Users/ashekhar/ashekhar20.github.io/moments_and_perspectives/img/41_visible.png 2016-12-22\n",
      "/Users/ashekhar/ashekhar20.github.io/moments_and_perspectives/img/42_jarvys.png 2016-12-23\n",
      "/Users/ashekhar/ashekhar20.github.io/moments_and_perspectives/img/43_holidays.png 2016-12-28\n",
      "/Users/ashekhar/ashekhar20.github.io/moments_and_perspectives/img/44_Kids.png 2016-03-09\n",
      "/Users/ashekhar/ashekhar20.github.io/moments_and_perspectives/img/45_FictionalStuff.png 2017-03-01\n",
      "/Users/ashekhar/ashekhar20.github.io/moments_and_perspectives/img/46_gym.png 2017-03-07\n",
      "/Users/ashekhar/ashekhar20.github.io/moments_and_perspectives/img/47_coffee.png 2017-03-16\n",
      "/Users/ashekhar/ashekhar20.github.io/moments_and_perspectives/img/48_ProsAndCons.png 2017-03-24\n",
      "/Users/ashekhar/ashekhar20.github.io/moments_and_perspectives/img/49_broil.png 2017-03-30\n",
      "/Users/ashekhar/ashekhar20.github.io/moments_and_perspectives/img/50_FRIENDS.png 2017-03-30\n",
      "/Users/ashekhar/ashekhar20.github.io/moments_and_perspectives/img/51_pants.png 2017-04-10\n",
      "/Users/ashekhar/ashekhar20.github.io/moments_and_perspectives/img/52_scars.png 2017-05-03\n",
      "/Users/ashekhar/ashekhar20.github.io/moments_and_perspectives/img/53_playlist.png 2017-06-16\n",
      "/Users/ashekhar/ashekhar20.github.io/moments_and_perspectives/img/54_snack.png 2017-07-10\n",
      "/Users/ashekhar/ashekhar20.github.io/moments_and_perspectives/img/55_unfollow.png 2017-08-21\n",
      "/Users/ashekhar/ashekhar20.github.io/moments_and_perspectives/img/56_boarding.png 2017-09-26\n",
      "/Users/ashekhar/ashekhar20.github.io/moments_and_perspectives/img/57_yoga.png 2017-10-12\n",
      "/Users/ashekhar/ashekhar20.github.io/moments_and_perspectives/img/58_random.png 2017-11-10\n",
      "/Users/ashekhar/ashekhar20.github.io/moments_and_perspectives/img/59_minimalism.png 2017-11-16\n",
      "/Users/ashekhar/ashekhar20.github.io/moments_and_perspectives/img/60_CorporateSpeak.png 2018-03-02\n",
      "/Users/ashekhar/ashekhar20.github.io/moments_and_perspectives/img/61_Snacks.png 2018-03-19\n",
      "/Users/ashekhar/ashekhar20.github.io/moments_and_perspectives/img/62_heels.png 2018-05-15\n",
      "/Users/ashekhar/ashekhar20.github.io/moments_and_perspectives/img/63_agile.png 2019-01-12\n",
      "/Users/ashekhar/ashekhar20.github.io/moments_and_perspectives/img/64_binge.png 2019-05-28\n",
      "/Users/ashekhar/ashekhar20.github.io/moments_and_perspectives/img/65_grief.png 2020-05-14\n",
      "/Users/ashekhar/ashekhar20.github.io/moments_and_perspectives/img/66_formals.png 2021-02-03\n",
      "/Users/ashekhar/ashekhar20.github.io/moments_and_perspectives/img/67_wellbeing.png 2022-02-24\n"
     ]
    }
   ],
   "source": [
    "tmp=[]\n",
    "for i in glob.glob(os.path.join(imgdir,'*.png')):\n",
    "    mytime=datetime.utcfromtimestamp(os.path.getmtime(i)).strftime('%Y-%m-%d')\n",
    "    mytxt=imgtxt.replace(\"MYIMG\", os.path.basename(i)).replace(\"MYTIME\", mytime)\n",
    "    tmp.append(mytxt)\n",
    "    print(i, mytime)\n",
    "tmp.reverse()"
   ]
  },
  {
   "cell_type": "code",
   "execution_count": 11,
   "metadata": {
    "collapsed": false
   },
   "outputs": [],
   "source": [
    "myimgtxt=''.join(tmp)"
   ]
  },
  {
   "cell_type": "code",
   "execution_count": 12,
   "metadata": {
    "collapsed": false
   },
   "outputs": [],
   "source": [
    "with open(os.path.abspath(r'../template.html')) as fr:\n",
    "    templatetxt=fr.read()"
   ]
  },
  {
   "cell_type": "code",
   "execution_count": 13,
   "metadata": {
    "collapsed": false
   },
   "outputs": [],
   "source": [
    "indextxt=templatetxt.replace(\"MYIMAGETEXT\",myimgtxt)"
   ]
  },
  {
   "cell_type": "code",
   "execution_count": 14,
   "metadata": {
    "collapsed": false
   },
   "outputs": [],
   "source": [
    "with open(os.path.abspath(r'../index.html'), 'w') as fr:\n",
    "    fr.write(indextxt)"
   ]
  },
  {
   "cell_type": "code",
   "execution_count": null,
   "metadata": {
    "collapsed": true
   },
   "outputs": [],
   "source": []
  }
 ],
 "metadata": {
  "kernelspec": {
   "display_name": "Python 3",
   "language": "python",
   "name": "python3"
  },
  "language_info": {
   "codemirror_mode": {
    "name": "ipython",
    "version": 3
   },
   "file_extension": ".py",
   "mimetype": "text/x-python",
   "name": "python",
   "nbconvert_exporter": "python",
   "pygments_lexer": "ipython3",
   "version": "3.5.1"
  }
 },
 "nbformat": 4,
 "nbformat_minor": 0
}
